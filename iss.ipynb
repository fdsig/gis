{
 "cells": [
  {
   "cell_type": "markdown",
   "id": "b4cf4792",
   "metadata": {
    "slideshow": {
     "slide_type": "notes"
    }
   },
   "source": [
    "## api endpoint\n",
    "https://api.wheretheiss.at/v1/satellites/25544"
   ]
  },
  {
   "cell_type": "code",
   "execution_count": 1,
   "id": "98d3a69e",
   "metadata": {
    "slideshow": {
     "slide_type": "slide"
    }
   },
   "outputs": [
    {
     "name": "stdout",
     "output_type": "stream",
     "text": [
      "README.md     iss.gif       iss.ipynb     iss.py        iss_logs.json\r\n"
     ]
    }
   ],
   "source": [
    "!ls"
   ]
  },
  {
   "cell_type": "code",
   "execution_count": 2,
   "id": "f5952457",
   "metadata": {
    "slideshow": {
     "slide_type": "subslide"
    }
   },
   "outputs": [
    {
     "name": "stdout",
     "output_type": "stream",
     "text": [
      "current = {'name': 'iss', 'id': 25544, 'latitude': 48.364885696508, 'longitude': 152.55338761331, 'altitude': 425.69228129253, 'velocity': 27578.915436897, 'visibility': 'eclipsed', 'footprint': 4536.3105936239, 'timestamp': 1646069971, 'daynum': 2459639.2357755, 'solar_lat': -7.774414482743, 'solar_lon': 278.24160244143, 'units': 'kilometers', 'miles_per_second': 4.760206546010362, 'converted_to_unit': 'Seconds'}\n",
      "Mon Feb 28 17:39:31 2022\n"
     ]
    },
    {
     "data": {
      "text/plain": [
       "{'json_process': <function iss.json_process(iss_dict, did=None, home=None)>,\n",
       " 'get_iss': <function iss.get_iss()>,\n",
       " 'to_html': None,\n",
       " 'did': 'satelite'}"
      ]
     },
     "execution_count": 2,
     "metadata": {},
     "output_type": "execute_result"
    }
   ],
   "source": [
    "import iss\n",
    "iss.args"
   ]
  },
  {
   "cell_type": "code",
   "execution_count": 3,
   "id": "b98c95d3",
   "metadata": {
    "slideshow": {
     "slide_type": "subslide"
    }
   },
   "outputs": [
    {
     "name": "stdout",
     "output_type": "stream",
     "text": [
      "current = {'name': 'iss', 'id': 25544, 'latitude': 48.458535328222, 'longitude': 152.89835456509, 'altitude': 425.69973715935, 'velocity': 27578.96195581, 'visibility': 'eclipsed', 'footprint': 4536.3482314207, 'timestamp': 1646069975, 'daynum': 2459639.2358218, 'solar_lat': -7.7743969322295, 'solar_lon': 278.22493351467, 'units': 'kilometers', 'miles_per_second': 4.76021457531937, 'converted_to_unit': 'Seconds'}\n",
      "Mon Feb 28 17:39:35 2022\n"
     ]
    },
    {
     "data": {
      "text/html": [
       "<div>\n",
       "<style scoped>\n",
       "    .dataframe tbody tr th:only-of-type {\n",
       "        vertical-align: middle;\n",
       "    }\n",
       "\n",
       "    .dataframe tbody tr th {\n",
       "        vertical-align: top;\n",
       "    }\n",
       "\n",
       "    .dataframe thead th {\n",
       "        text-align: right;\n",
       "    }\n",
       "</style>\n",
       "<table border=\"1\" class=\"dataframe\">\n",
       "  <thead>\n",
       "    <tr style=\"text-align: right;\">\n",
       "      <th></th>\n",
       "      <th>name</th>\n",
       "      <th>id</th>\n",
       "      <th>latitude</th>\n",
       "      <th>longitude</th>\n",
       "      <th>altitude</th>\n",
       "      <th>velocity</th>\n",
       "      <th>visibility</th>\n",
       "      <th>footprint</th>\n",
       "      <th>timestamp</th>\n",
       "      <th>daynum</th>\n",
       "      <th>solar_lat</th>\n",
       "      <th>solar_lon</th>\n",
       "      <th>units</th>\n",
       "      <th>miles_per_second</th>\n",
       "      <th>converted_to_unit</th>\n",
       "    </tr>\n",
       "  </thead>\n",
       "  <tbody>\n",
       "    <tr>\n",
       "      <th>Tue Feb 22 09:21:54 2022</th>\n",
       "      <td>iss</td>\n",
       "      <td>25544</td>\n",
       "      <td>-48.783506</td>\n",
       "      <td>-171.620073</td>\n",
       "      <td>435.640855</td>\n",
       "      <td>27535.768213</td>\n",
       "      <td>eclipsed</td>\n",
       "      <td>4586.196193</td>\n",
       "      <td>1645521714</td>\n",
       "      <td>2459632.890208</td>\n",
       "      <td>-10.137438</td>\n",
       "      <td>42.898561</td>\n",
       "      <td>kilometers</td>\n",
       "      <td>4.752759</td>\n",
       "      <td>Seconds</td>\n",
       "    </tr>\n",
       "    <tr>\n",
       "      <th>Tue Feb 22 09:21:55 2022</th>\n",
       "      <td>iss</td>\n",
       "      <td>25544</td>\n",
       "      <td>-48.761304</td>\n",
       "      <td>-171.53281</td>\n",
       "      <td>435.635157</td>\n",
       "      <td>27535.773158</td>\n",
       "      <td>eclipsed</td>\n",
       "      <td>4586.167807</td>\n",
       "      <td>1645521715</td>\n",
       "      <td>2459632.89022</td>\n",
       "      <td>-10.137434</td>\n",
       "      <td>42.894394</td>\n",
       "      <td>kilometers</td>\n",
       "      <td>4.75276</td>\n",
       "      <td>Seconds</td>\n",
       "    </tr>\n",
       "  </tbody>\n",
       "</table>\n",
       "</div>"
      ],
      "text/plain": [
       "                         name     id   latitude   longitude    altitude  \\\n",
       "Tue Feb 22 09:21:54 2022  iss  25544 -48.783506 -171.620073  435.640855   \n",
       "Tue Feb 22 09:21:55 2022  iss  25544 -48.761304  -171.53281  435.635157   \n",
       "\n",
       "                              velocity visibility    footprint   timestamp  \\\n",
       "Tue Feb 22 09:21:54 2022  27535.768213   eclipsed  4586.196193  1645521714   \n",
       "Tue Feb 22 09:21:55 2022  27535.773158   eclipsed  4586.167807  1645521715   \n",
       "\n",
       "                                  daynum  solar_lat  solar_lon       units  \\\n",
       "Tue Feb 22 09:21:54 2022  2459632.890208 -10.137438  42.898561  kilometers   \n",
       "Tue Feb 22 09:21:55 2022   2459632.89022 -10.137434  42.894394  kilometers   \n",
       "\n",
       "                         miles_per_second converted_to_unit  \n",
       "Tue Feb 22 09:21:54 2022         4.752759           Seconds  \n",
       "Tue Feb 22 09:21:55 2022          4.75276           Seconds  "
      ]
     },
     "execution_count": 3,
     "metadata": {},
     "output_type": "execute_result"
    }
   ],
   "source": [
    "data = iss.main(**iss.args)\n",
    "df = iss.pd.DataFrame.from_dict(data).T\n",
    "df[0:2]"
   ]
  },
  {
   "cell_type": "code",
   "execution_count": 4,
   "id": "c4f5ffb0",
   "metadata": {
    "slideshow": {
     "slide_type": "subslide"
    }
   },
   "outputs": [
    {
     "data": {
      "text/plain": [
       "(91, 91)"
      ]
     },
     "execution_count": 4,
     "metadata": {},
     "output_type": "execute_result"
    }
   ],
   "source": [
    "import numpy as np\n",
    "mps = df['miles_per_second'].values\n",
    "outliers = abs(np.std(mps)*3)\n",
    "above = mps.mean()+(outliers)\n",
    "below = mps.mean()-(outliers)\n",
    "above_idx = np.argwhere(mps<=above)\n",
    "below_idx = np.argwhere(mps>=below)\n",
    "above = mps[above_idx]\n",
    "below = mps[below_idx]\n",
    "len(np.intersect1d(above,below)),len(mps)"
   ]
  },
  {
   "cell_type": "code",
   "execution_count": 5,
   "id": "c1e6241c",
   "metadata": {
    "slideshow": {
     "slide_type": "subslide"
    }
   },
   "outputs": [
    {
     "data": {
      "text/html": [
       "<div>\n",
       "<style scoped>\n",
       "    .dataframe tbody tr th:only-of-type {\n",
       "        vertical-align: middle;\n",
       "    }\n",
       "\n",
       "    .dataframe tbody tr th {\n",
       "        vertical-align: top;\n",
       "    }\n",
       "\n",
       "    .dataframe thead th {\n",
       "        text-align: right;\n",
       "    }\n",
       "</style>\n",
       "<table border=\"1\" class=\"dataframe\">\n",
       "  <thead>\n",
       "    <tr style=\"text-align: right;\">\n",
       "      <th></th>\n",
       "      <th>name</th>\n",
       "      <th>id</th>\n",
       "      <th>latitude</th>\n",
       "      <th>longitude</th>\n",
       "      <th>altitude</th>\n",
       "      <th>velocity</th>\n",
       "      <th>visibility</th>\n",
       "      <th>footprint</th>\n",
       "      <th>timestamp</th>\n",
       "      <th>daynum</th>\n",
       "      <th>solar_lat</th>\n",
       "      <th>solar_lon</th>\n",
       "      <th>units</th>\n",
       "      <th>miles_per_second</th>\n",
       "      <th>converted_to_unit</th>\n",
       "    </tr>\n",
       "  </thead>\n",
       "  <tbody>\n",
       "    <tr>\n",
       "      <th>Sat Feb 19 09:30:22 2022</th>\n",
       "      <td>iss</td>\n",
       "      <td>25544</td>\n",
       "      <td>-8.486955</td>\n",
       "      <td>-27.228632</td>\n",
       "      <td>416.696715</td>\n",
       "      <td>27587.915735</td>\n",
       "      <td>daylight</td>\n",
       "      <td>4490.619504</td>\n",
       "      <td>1645291822</td>\n",
       "      <td>2459630.229421</td>\n",
       "      <td>-11.098951</td>\n",
       "      <td>280.85777</td>\n",
       "      <td>kilometers</td>\n",
       "      <td>4.76176</td>\n",
       "      <td>Seconds</td>\n",
       "    </tr>\n",
       "    <tr>\n",
       "      <th>Sat Feb 19 09:35:09 2022</th>\n",
       "      <td>iss</td>\n",
       "      <td>25544</td>\n",
       "      <td>-22.712344</td>\n",
       "      <td>-15.956096</td>\n",
       "      <td>421.77408</td>\n",
       "      <td>27573.31145</td>\n",
       "      <td>daylight</td>\n",
       "      <td>4516.478192</td>\n",
       "      <td>1645292109</td>\n",
       "      <td>2459630.232743</td>\n",
       "      <td>-11.097763</td>\n",
       "      <td>279.661854</td>\n",
       "      <td>kilometers</td>\n",
       "      <td>4.759239</td>\n",
       "      <td>Seconds</td>\n",
       "    </tr>\n",
       "    <tr>\n",
       "      <th>Sat Feb 19 09:35:18 2022</th>\n",
       "      <td>iss</td>\n",
       "      <td>25544</td>\n",
       "      <td>-23.144033</td>\n",
       "      <td>-15.569478</td>\n",
       "      <td>421.958338</td>\n",
       "      <td>27572.818855</td>\n",
       "      <td>daylight</td>\n",
       "      <td>4517.413218</td>\n",
       "      <td>1645292118</td>\n",
       "      <td>2459630.232847</td>\n",
       "      <td>-11.097726</td>\n",
       "      <td>279.624351</td>\n",
       "      <td>kilometers</td>\n",
       "      <td>4.759154</td>\n",
       "      <td>Seconds</td>\n",
       "    </tr>\n",
       "    <tr>\n",
       "      <th>Sat Feb 19 10:00:03 2022</th>\n",
       "      <td>iss</td>\n",
       "      <td>25544</td>\n",
       "      <td>-39.725458</td>\n",
       "      <td>97.644935</td>\n",
       "      <td>433.597945</td>\n",
       "      <td>27537.608669</td>\n",
       "      <td>eclipsed</td>\n",
       "      <td>4576.006646</td>\n",
       "      <td>1645293603</td>\n",
       "      <td>2459630.250035</td>\n",
       "      <td>-11.091578</td>\n",
       "      <td>273.436423</td>\n",
       "      <td>kilometers</td>\n",
       "      <td>4.753077</td>\n",
       "      <td>Seconds</td>\n",
       "    </tr>\n",
       "    <tr>\n",
       "      <th>Sat Feb 19 11:00:03 2022</th>\n",
       "      <td>iss</td>\n",
       "      <td>25544</td>\n",
       "      <td>1.186835</td>\n",
       "      <td>-57.69728</td>\n",
       "      <td>414.529066</td>\n",
       "      <td>27595.704026</td>\n",
       "      <td>daylight</td>\n",
       "      <td>4479.524412</td>\n",
       "      <td>1645297203</td>\n",
       "      <td>2459630.291701</td>\n",
       "      <td>-11.076671</td>\n",
       "      <td>258.43538</td>\n",
       "      <td>kilometers</td>\n",
       "      <td>4.763104</td>\n",
       "      <td>Seconds</td>\n",
       "    </tr>\n",
       "  </tbody>\n",
       "</table>\n",
       "</div>"
      ],
      "text/plain": [
       "                         name     id   latitude  longitude    altitude  \\\n",
       "Sat Feb 19 09:30:22 2022  iss  25544  -8.486955 -27.228632  416.696715   \n",
       "Sat Feb 19 09:35:09 2022  iss  25544 -22.712344 -15.956096   421.77408   \n",
       "Sat Feb 19 09:35:18 2022  iss  25544 -23.144033 -15.569478  421.958338   \n",
       "Sat Feb 19 10:00:03 2022  iss  25544 -39.725458  97.644935  433.597945   \n",
       "Sat Feb 19 11:00:03 2022  iss  25544   1.186835  -57.69728  414.529066   \n",
       "\n",
       "                              velocity visibility    footprint   timestamp  \\\n",
       "Sat Feb 19 09:30:22 2022  27587.915735   daylight  4490.619504  1645291822   \n",
       "Sat Feb 19 09:35:09 2022   27573.31145   daylight  4516.478192  1645292109   \n",
       "Sat Feb 19 09:35:18 2022  27572.818855   daylight  4517.413218  1645292118   \n",
       "Sat Feb 19 10:00:03 2022  27537.608669   eclipsed  4576.006646  1645293603   \n",
       "Sat Feb 19 11:00:03 2022  27595.704026   daylight  4479.524412  1645297203   \n",
       "\n",
       "                                  daynum  solar_lat   solar_lon       units  \\\n",
       "Sat Feb 19 09:30:22 2022  2459630.229421 -11.098951   280.85777  kilometers   \n",
       "Sat Feb 19 09:35:09 2022  2459630.232743 -11.097763  279.661854  kilometers   \n",
       "Sat Feb 19 09:35:18 2022  2459630.232847 -11.097726  279.624351  kilometers   \n",
       "Sat Feb 19 10:00:03 2022  2459630.250035 -11.091578  273.436423  kilometers   \n",
       "Sat Feb 19 11:00:03 2022  2459630.291701 -11.076671   258.43538  kilometers   \n",
       "\n",
       "                         miles_per_second converted_to_unit  \n",
       "Sat Feb 19 09:30:22 2022          4.76176           Seconds  \n",
       "Sat Feb 19 09:35:09 2022         4.759239           Seconds  \n",
       "Sat Feb 19 09:35:18 2022         4.759154           Seconds  \n",
       "Sat Feb 19 10:00:03 2022         4.753077           Seconds  \n",
       "Sat Feb 19 11:00:03 2022         4.763104           Seconds  "
      ]
     },
     "execution_count": 5,
     "metadata": {},
     "output_type": "execute_result"
    }
   ],
   "source": [
    "fid = 'iss_logs.json'\n",
    "shell = f'scp username@yourdomain.com:~/somedirecotry/{fid} {fid}'\n",
    "df = iss.run_process(command=shell, fid=fid)\n",
    "df[20:25]"
   ]
  },
  {
   "cell_type": "markdown",
   "id": "bb4b7a8d",
   "metadata": {
    "slideshow": {
     "slide_type": "slide"
    }
   },
   "source": [
    "![](iss.gif)"
   ]
  },
  {
   "cell_type": "markdown",
   "id": "88b4e5cf",
   "metadata": {
    "slideshow": {
     "slide_type": "slide"
    }
   },
   "source": [
    "# visualizing: (earth view)\n",
    "\n",
    "[earth heat map plotly](https://chart-studio.plotly.com/~empet/14813.embed)\n",
    "\n",
    "[axial tilt](https://en.wikipedia.org/wiki/Axial_tilt)\n",
    "\n",
    "[eliptical cooridnate system](https://en.wikipedia.org/wiki/Ecliptic_coordinate_system)\n",
    "\n",
    "[geopandas](https://geopandas.org/en/stable/docs/user_guide/mapping.html#choropleth-maps)\n",
    "\n",
    "[shapes](https://shapely.readthedocs.io/en/stable/manual.html)\n",
    "\n",
    "[Orbital velocity](https://youtu.be/nxD7koHdQhM)\n",
    "\n",
    "## Standards\n",
    "[Open Geospatial Consortium](https://www.ogc.org/standards/sfa)"
   ]
  }
 ],
 "metadata": {
  "celltoolbar": "Slideshow",
  "kernelspec": {
   "display_name": "Python 3 (ipykernel)",
   "language": "python",
   "name": "python3"
  },
  "language_info": {
   "codemirror_mode": {
    "name": "ipython",
    "version": 3
   },
   "file_extension": ".py",
   "mimetype": "text/x-python",
   "name": "python",
   "nbconvert_exporter": "python",
   "pygments_lexer": "ipython3",
   "version": "3.9.5"
  },
  "rise": {
   "enable_chalkboard": true
  }
 },
 "nbformat": 4,
 "nbformat_minor": 5
}
