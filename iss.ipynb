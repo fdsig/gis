{
 "cells": [
  {
   "cell_type": "markdown",
   "id": "b4cf4792",
   "metadata": {
    "slideshow": {
     "slide_type": "notes"
    }
   },
   "source": [
    "## api endpoint\n",
    "https://api.wheretheiss.at/v1/satellites/25544"
   ]
  },
  {
   "cell_type": "code",
   "execution_count": 1,
   "id": "98d3a69e",
   "metadata": {
    "slideshow": {
     "slide_type": "slide"
    }
   },
   "outputs": [
    {
     "name": "stdout",
     "output_type": "stream",
     "text": [
      "README.md     iss.gif       iss.ipynb     iss.py        iss_logs.json\r\n"
     ]
    }
   ],
   "source": [
    "!ls"
   ]
  },
  {
   "cell_type": "code",
   "execution_count": 1,
   "id": "f5952457",
   "metadata": {
    "slideshow": {
     "slide_type": "subslide"
    }
   },
   "outputs": [
    {
     "name": "stdout",
     "output_type": "stream",
     "text": [
      "current = {'name': 'iss', 'id': 25544, 'latitude': -34.890072210592, 'longitude': -84.542767241899, 'altitude': 425.65757116531, 'velocity': 27565.617993921, 'visibility': 'daylight', 'footprint': 4536.1353691741, 'timestamp': 1649333323, 'daynum': 2459677.0060532, 'solar_lat': 6.9325066860099, 'solar_lon': 358.35791122379, 'units': 'kilometers', 'miles_per_second': 4.757911366011555, 'converted_to_unit': 'Seconds'}\n",
      "Thu Apr  7 13:08:43 2022\n"
     ]
    },
    {
     "data": {
      "text/plain": [
       "{'json_process': <function iss.json_process(iss_dict, did=None, home=None)>,\n",
       " 'get_iss': <function iss.get_iss()>,\n",
       " 'to_html': None,\n",
       " 'did': 'satelite'}"
      ]
     },
     "execution_count": 1,
     "metadata": {},
     "output_type": "execute_result"
    }
   ],
   "source": [
    "import iss\n",
    "iss.args"
   ]
  },
  {
   "cell_type": "code",
   "execution_count": 2,
   "id": "b98c95d3",
   "metadata": {
    "slideshow": {
     "slide_type": "subslide"
    }
   },
   "outputs": [
    {
     "name": "stdout",
     "output_type": "stream",
     "text": [
      "current = {'name': 'iss', 'id': 25544, 'latitude': -34.890072210592, 'longitude': -84.542767241899, 'altitude': 425.65757116531, 'velocity': 27565.617993921, 'visibility': 'daylight', 'footprint': 4536.1353691741, 'timestamp': 1649333323, 'daynum': 2459677.0060532, 'solar_lat': 6.9325066860099, 'solar_lon': 358.35791122379, 'units': 'kilometers', 'miles_per_second': 4.757911366011555, 'converted_to_unit': 'Seconds'}\n",
      "Thu Apr  7 13:08:43 2022\n"
     ]
    },
    {
     "data": {
      "text/html": [
       "<div>\n",
       "<style scoped>\n",
       "    .dataframe tbody tr th:only-of-type {\n",
       "        vertical-align: middle;\n",
       "    }\n",
       "\n",
       "    .dataframe tbody tr th {\n",
       "        vertical-align: top;\n",
       "    }\n",
       "\n",
       "    .dataframe thead th {\n",
       "        text-align: right;\n",
       "    }\n",
       "</style>\n",
       "<table border=\"1\" class=\"dataframe\">\n",
       "  <thead>\n",
       "    <tr style=\"text-align: right;\">\n",
       "      <th></th>\n",
       "      <th>name</th>\n",
       "      <th>id</th>\n",
       "      <th>latitude</th>\n",
       "      <th>longitude</th>\n",
       "      <th>altitude</th>\n",
       "      <th>velocity</th>\n",
       "      <th>visibility</th>\n",
       "      <th>footprint</th>\n",
       "      <th>timestamp</th>\n",
       "      <th>daynum</th>\n",
       "      <th>solar_lat</th>\n",
       "      <th>solar_lon</th>\n",
       "      <th>units</th>\n",
       "      <th>miles_per_second</th>\n",
       "      <th>converted_to_unit</th>\n",
       "    </tr>\n",
       "  </thead>\n",
       "  <tbody>\n",
       "    <tr>\n",
       "      <th>Tue Feb 22 09:21:54 2022</th>\n",
       "      <td>iss</td>\n",
       "      <td>25544</td>\n",
       "      <td>-48.783506</td>\n",
       "      <td>-171.620073</td>\n",
       "      <td>435.640855</td>\n",
       "      <td>27535.768213</td>\n",
       "      <td>eclipsed</td>\n",
       "      <td>4586.196193</td>\n",
       "      <td>1645521714</td>\n",
       "      <td>2459632.890208</td>\n",
       "      <td>-10.137438</td>\n",
       "      <td>42.898561</td>\n",
       "      <td>kilometers</td>\n",
       "      <td>4.752759</td>\n",
       "      <td>Seconds</td>\n",
       "    </tr>\n",
       "    <tr>\n",
       "      <th>Tue Feb 22 09:21:55 2022</th>\n",
       "      <td>iss</td>\n",
       "      <td>25544</td>\n",
       "      <td>-48.761304</td>\n",
       "      <td>-171.53281</td>\n",
       "      <td>435.635157</td>\n",
       "      <td>27535.773158</td>\n",
       "      <td>eclipsed</td>\n",
       "      <td>4586.167807</td>\n",
       "      <td>1645521715</td>\n",
       "      <td>2459632.89022</td>\n",
       "      <td>-10.137434</td>\n",
       "      <td>42.894394</td>\n",
       "      <td>kilometers</td>\n",
       "      <td>4.75276</td>\n",
       "      <td>Seconds</td>\n",
       "    </tr>\n",
       "  </tbody>\n",
       "</table>\n",
       "</div>"
      ],
      "text/plain": [
       "                         name     id   latitude   longitude    altitude  \\\n",
       "Tue Feb 22 09:21:54 2022  iss  25544 -48.783506 -171.620073  435.640855   \n",
       "Tue Feb 22 09:21:55 2022  iss  25544 -48.761304  -171.53281  435.635157   \n",
       "\n",
       "                              velocity visibility    footprint   timestamp  \\\n",
       "Tue Feb 22 09:21:54 2022  27535.768213   eclipsed  4586.196193  1645521714   \n",
       "Tue Feb 22 09:21:55 2022  27535.773158   eclipsed  4586.167807  1645521715   \n",
       "\n",
       "                                  daynum  solar_lat  solar_lon       units  \\\n",
       "Tue Feb 22 09:21:54 2022  2459632.890208 -10.137438  42.898561  kilometers   \n",
       "Tue Feb 22 09:21:55 2022   2459632.89022 -10.137434  42.894394  kilometers   \n",
       "\n",
       "                         miles_per_second converted_to_unit  \n",
       "Tue Feb 22 09:21:54 2022         4.752759           Seconds  \n",
       "Tue Feb 22 09:21:55 2022          4.75276           Seconds  "
      ]
     },
     "execution_count": 2,
     "metadata": {},
     "output_type": "execute_result"
    }
   ],
   "source": [
    "data = iss.main(**iss.args)\n",
    "df = iss.pd.DataFrame.from_dict(data).T\n",
    "df[0:2]"
   ]
  },
  {
   "cell_type": "code",
   "execution_count": 4,
   "id": "c4f5ffb0",
   "metadata": {
    "slideshow": {
     "slide_type": "subslide"
    }
   },
   "outputs": [
    {
     "data": {
      "text/plain": [
       "(91, 91)"
      ]
     },
     "execution_count": 4,
     "metadata": {},
     "output_type": "execute_result"
    }
   ],
   "source": [
    "import numpy as np\n",
    "mps = df['miles_per_second'].values\n",
    "outliers = abs(np.std(mps)*3)\n",
    "above = mps.mean()+(outliers)\n",
    "below = mps.mean()-(outliers)\n",
    "above_idx = np.argwhere(mps<=above)\n",
    "below_idx = np.argwhere(mps>=below)\n",
    "above = mps[above_idx]\n",
    "below = mps[below_idx]\n",
    "len(np.intersect1d(above,below)),len(mps)"
   ]
  },
  {
   "cell_type": "code",
   "execution_count": null,
   "id": "c1e6241c",
   "metadata": {
    "slideshow": {
     "slide_type": "subslide"
    }
   },
   "outputs": [],
   "source": [
    "fid = 'iss_logs.json'\n",
    "shell = f'scp frida_app@app.desigley.space:~/satelite/{fid} {fid}'\n",
    "df = iss.run_process(command=shell, fid=fid)\n",
    "df"
   ]
  },
  {
   "cell_type": "markdown",
   "id": "bb4b7a8d",
   "metadata": {
    "slideshow": {
     "slide_type": "slide"
    }
   },
   "source": [
    "![](iss.gif)"
   ]
  },
  {
   "cell_type": "markdown",
   "id": "88b4e5cf",
   "metadata": {
    "slideshow": {
     "slide_type": "slide"
    }
   },
   "source": [
    "# visualizing: (earth view)\n",
    "\n",
    "[earth heat map plotly](https://chart-studio.plotly.com/~empet/14813.embed)\n",
    "\n",
    "[axial tilt](https://en.wikipedia.org/wiki/Axial_tilt)\n",
    "\n",
    "[eliptical cooridnate system](https://en.wikipedia.org/wiki/Ecliptic_coordinate_system)\n",
    "\n",
    "[geopandas](https://geopandas.org/en/stable/docs/user_guide/mapping.html#choropleth-maps)\n",
    "\n",
    "[shapes](https://shapely.readthedocs.io/en/stable/manual.html)\n",
    "\n",
    "[Orbital velocity](https://youtu.be/nxD7koHdQhM)\n",
    "\n",
    "## Standards\n",
    "[Open Geospatial Consortium](https://www.ogc.org/standards/sfa)"
   ]
  }
 ],
 "metadata": {
  "celltoolbar": "Slideshow",
  "kernelspec": {
   "display_name": "Python 3 (ipykernel)",
   "language": "python",
   "name": "python3"
  },
  "language_info": {
   "codemirror_mode": {
    "name": "ipython",
    "version": 3
   },
   "file_extension": ".py",
   "mimetype": "text/x-python",
   "name": "python",
   "nbconvert_exporter": "python",
   "pygments_lexer": "ipython3",
   "version": "3.9.5"
  },
  "rise": {
   "enable_chalkboard": true
  }
 },
 "nbformat": 4,
 "nbformat_minor": 5
}
